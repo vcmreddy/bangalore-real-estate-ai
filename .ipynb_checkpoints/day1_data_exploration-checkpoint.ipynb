{
 "cells": [
  {
   "cell_type": "code",
   "execution_count": 2,
   "id": "54d54809-3e26-4d81-8e75-56130a4d0c5a",
   "metadata": {},
   "outputs": [
    {
     "name": "stdout",
     "output_type": "stream",
     "text": [
      "<class 'pandas.core.frame.DataFrame'>\n",
      "RangeIndex: 13320 entries, 0 to 13319\n",
      "Data columns (total 9 columns):\n",
      " #   Column        Non-Null Count  Dtype  \n",
      "---  ------        --------------  -----  \n",
      " 0   area_type     13320 non-null  object \n",
      " 1   availability  13320 non-null  object \n",
      " 2   location      13319 non-null  object \n",
      " 3   size          13304 non-null  object \n",
      " 4   society       7818 non-null   object \n",
      " 5   total_sqft    13320 non-null  object \n",
      " 6   bath          13247 non-null  float64\n",
      " 7   balcony       12711 non-null  float64\n",
      " 8   price         13320 non-null  float64\n",
      "dtypes: float64(3), object(6)\n",
      "memory usage: 936.7+ KB\n",
      "Unique locations: 1305\n",
      "Price range: 8.0 - 3600.0\n",
      "Total sqft examples: ['1056' '2600' '1440' '1521' '1200' '1170' '2732' '3300' '1310' '1020']\n"
     ]
    }
   ],
   "source": [
    "import pandas as pd\n",
    "\n",
    "# Load data\n",
    "df = pd.read_csv('Bengaluru_House_Data.csv')\n",
    "\n",
    "# Show top rows\n",
    "df.head()\n",
    "\n",
    "# Summary\n",
    "df.info()\n",
    "\n",
    "# Check null values\n",
    "df.isnull().sum()\n",
    "\n",
    "# Look at feature distribution\n",
    "print(\"Unique locations:\", df['location'].nunique())\n",
    "print(\"Price range:\", df['price'].min(), \"-\", df['price'].max())\n",
    "print(\"Total sqft examples:\", df['total_sqft'].unique()[:10])"
   ]
  },
  {
   "cell_type": "code",
   "execution_count": 3,
   "id": "4e308a61-42a7-4cf9-b6a6-343f2cf6e936",
   "metadata": {},
   "outputs": [],
   "source": [
    "df = df.dropna(subset=['location', 'size', 'total_sqft', 'price'])"
   ]
  },
  {
   "cell_type": "code",
   "execution_count": 4,
   "id": "3f682bb3-ad2b-41f8-9258-285834bcca7a",
   "metadata": {},
   "outputs": [],
   "source": [
    "df['bath'] = df['bath'].fillna(df['bath'].median())"
   ]
  },
  {
   "cell_type": "code",
   "execution_count": 5,
   "id": "6e5945e2-685f-46ce-9e8d-972241bc4465",
   "metadata": {},
   "outputs": [
    {
     "name": "stdout",
     "output_type": "stream",
     "text": [
      "Unique locations: 1304\n",
      "Price range: 8.0 - 3600.0\n",
      "Total sqft examples: ['1056' '2600' '1440' '1521' '1200' '1170' '2732' '3300' '1310' '1020']\n"
     ]
    }
   ],
   "source": [
    "print(\"Unique locations:\", df['location'].nunique())\n",
    "print(\"Price range:\", df['price'].min(), \"-\", df['price'].max())\n",
    "print(\"Total sqft examples:\", df['total_sqft'].unique()[:10])"
   ]
  },
  {
   "cell_type": "code",
   "execution_count": null,
   "id": "0379dc40-39e0-4b31-b352-142812834e65",
   "metadata": {},
   "outputs": [],
   "source": []
  }
 ],
 "metadata": {
  "kernelspec": {
   "display_name": "Python 3 (ipykernel)",
   "language": "python",
   "name": "python3"
  },
  "language_info": {
   "codemirror_mode": {
    "name": "ipython",
    "version": 3
   },
   "file_extension": ".py",
   "mimetype": "text/x-python",
   "name": "python",
   "nbconvert_exporter": "python",
   "pygments_lexer": "ipython3",
   "version": "3.13.5"
  }
 },
 "nbformat": 4,
 "nbformat_minor": 5
}
